{
 "cells": [
  {
   "cell_type": "code",
   "execution_count": 1,
   "metadata": {},
   "outputs": [
    {
     "name": "stderr",
     "output_type": "stream",
     "text": [
      "C:\\ProgramData\\Anaconda3\\lib\\site-packages\\qiskit\\aqua\\__init__.py:86: DeprecationWarning: The package qiskit.aqua is deprecated. It was moved/refactored to qiskit-terra For more information see <https://github.com/Qiskit/qiskit-aqua/blob/main/README.md#migration-guide>\n",
      "  warn_package('aqua', 'qiskit-terra')\n"
     ]
    }
   ],
   "source": [
    "import qiskit_quantum_knn\n",
    "from qiskit_quantum_knn.qknn import QKNeighborsClassifier\n",
    "from qiskit_quantum_knn.encoding import analog\n",
    "from qiskit import aqua\n",
    "from sklearn import datasets\n",
    "import qiskit as qk\n",
    "import matplotlib.pyplot as plt\n",
    "from sklearn.neighbors import KNeighborsClassifier\n",
    "import numpy as np"
   ]
  },
  {
   "cell_type": "code",
   "execution_count": 2,
   "metadata": {},
   "outputs": [],
   "source": [
    "iris = datasets.load_iris()\n",
    "#iris = np.random.shuffle(iris)\n",
    "labels = iris.target\n",
    "data_raw = iris.data"
   ]
  },
  {
   "cell_type": "code",
   "execution_count": 3,
   "metadata": {},
   "outputs": [],
   "source": [
    "n_variables = 2        # should be positive power of 2\n",
    "n_train_points = 32     # can be any positive integer\n",
    "n_test_points = 16      # can be any positive integer"
   ]
  },
  {
   "cell_type": "code",
   "execution_count": 4,
   "metadata": {},
   "outputs": [],
   "source": [
    "encoded_data = analog.encode(data_raw[:, :n_variables])\n",
    "\n",
    "# now pick these indices from the data\n",
    "train_data = encoded_data[:n_train_points]\n",
    "train_labels = labels[:n_train_points]\n",
    "\n",
    "test_data = encoded_data[n_train_points:(n_train_points+n_test_points), :n_variables]\n",
    "test_labels = labels[n_train_points:(n_train_points+n_test_points)]\n"
   ]
  },
  {
   "cell_type": "markdown",
   "metadata": {},
   "source": [
    "# Quantum Nearest Neighbor Implementation"
   ]
  },
  {
   "cell_type": "code",
   "execution_count": 5,
   "metadata": {},
   "outputs": [
    {
     "name": "stderr",
     "output_type": "stream",
     "text": [
      "C:\\ProgramData\\Anaconda3\\lib\\site-packages\\qiskit\\aqua\\quantum_instance.py:137: DeprecationWarning: The class qiskit.aqua.QuantumInstance is deprecated. It was moved/refactored to qiskit.utils.QuantumInstance (pip install qiskit-terra). For more information see <https://github.com/Qiskit/qiskit-aqua/blob/main/README.md#migration-guide>\n",
      "  'qiskit-terra')\n"
     ]
    },
    {
     "name": "stdout",
     "output_type": "stream",
     "text": [
      "[0 0 0 0 0 0 0 0 0 0 0 0 0 0 0 0]\n",
      "[0 0 0 0 0 0 0 0 0 0 0 0 0 0 0 0]\n"
     ]
    }
   ],
   "source": [
    "\n",
    "# initialising the quantum instance\n",
    "backend = qk.BasicAer.get_backend('qasm_simulator')\n",
    "instance = aqua.QuantumInstance(backend, shots=10000)\n",
    "\n",
    "# initialising the qknn model\n",
    "qknn = QKNeighborsClassifier(\n",
    "   n_neighbors=3,\n",
    "   quantum_instance=instance)\n",
    "\n",
    "\n",
    "qknn.fit(train_data, train_labels)\n",
    "qknn_prediction = qknn.predict(test_data)\n",
    "\n",
    "print(qknn_prediction)\n",
    "print(test_labels)"
   ]
  },
  {
   "cell_type": "code",
   "execution_count": 6,
   "metadata": {},
   "outputs": [
    {
     "data": {
      "text/plain": [
       "[<matplotlib.lines.Line2D at 0x1c44ebd3f88>,\n",
       " <matplotlib.lines.Line2D at 0x1c44ec02a88>]"
      ]
     },
     "execution_count": 6,
     "metadata": {},
     "output_type": "execute_result"
    },
    {
     "data": {
      "image/png": "[encoded data removed]",
      "text/plain": [
       "<Figure size 432x288 with 1 Axes>"
      ]
     },
     "metadata": {
      "needs_background": "light"
     },
     "output_type": "display_data"
    }
   ],
   "source": [
    "plt.plot(train_data)"
   ]
  },
  {
   "cell_type": "markdown",
   "metadata": {},
   "source": [
    "# Classical Nearest Neighbor Implementation"
   ]
  },
  {
   "cell_type": "code",
   "execution_count": 7,
   "metadata": {},
   "outputs": [
    {
     "name": "stdout",
     "output_type": "stream",
     "text": [
      "prediction:  [0 0 0 0 0 0 0 0 0 0 0 0 0 0 0 0]\n",
      "ground_truth:  [0 0 0 0 0 0 0 0 0 0 0 0 0 0 0 0]\n"
     ]
    }
   ],
   "source": [
    "clf = KNeighborsClassifier(n_neighbors=3)\n",
    "clf.fit(train_data,train_labels)\n",
    "clf_prediction = clf.predict(test_data)\n",
    "print('prediction: ',clf_prediction)\n",
    "print('ground_truth: ',test_labels)"
   ]
  }
 ],
 "metadata": {
  "kernelspec": {
   "display_name": "Python 3",
   "language": "python",
   "name": "python3"
  },
  "language_info": {
   "codemirror_mode": {
    "name": "ipython",
    "version": 3
   },
   "file_extension": ".py",
   "mimetype": "text/x-python",
   "name": "python",
   "nbconvert_exporter": "python",
   "pygments_lexer": "ipython3",
   "version": "3.7.4"
  }
 },
 "nbformat": 4,
 "nbformat_minor": 2
}
